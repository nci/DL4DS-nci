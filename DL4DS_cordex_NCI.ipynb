{
 "cells": [
  {
   "cell_type": "markdown",
   "id": "ad2624ec-3f73-426a-8e3c-887302fa9c20",
   "metadata": {},
   "source": [
    "# DL4DS - UNSW test "
   ]
  },
  {
   "cell_type": "markdown",
   "id": "e3bcdb30-bf54-42d6-bb16-531202dec5e2",
   "metadata": {},
   "source": [
    "This notebook utlises DL4DS to process NCI CORDEX-CMIP5 Data collection."
   ]
  },
  {
   "cell_type": "code",
   "execution_count": null,
   "id": "c8e90db9-67d7-42b1-8261-1f3b0a7c3b6a",
   "metadata": {
    "tags": []
   },
   "outputs": [],
   "source": [
    "from numba import cuda \n",
    "import os \n",
    "\n",
    "import numpy as np\n",
    "import xarray as xr\n",
    "import ecubevis as ecv\n",
    "import dl4ds as dds\n",
    "import scipy as sp\n",
    "import netCDF4 as nc\n",
    "import climetlab as cml\n",
    "\n",
    "import xarray as xr\n",
    "import cartopy.crs as ccrs  # CRS stands for \"coordinate reference system\"\n",
    "import matplotlib.pyplot as plt\n",
    "from datetime import datetime\n",
    "#import pyresample\n",
    "import yaml\n",
    "\n",
    "import tensorflow as tf \n",
    "from tensorflow import keras\n",
    "from tensorflow.keras import models"
   ]
  },
  {
   "cell_type": "code",
   "execution_count": null,
   "id": "88e829b1-cd31-408d-9bf4-8d5dee12230b",
   "metadata": {},
   "outputs": [],
   "source": [
    "device = cuda.get_current_device()\n",
    "device.reset()\n",
    "\n",
    "os.chdir(\"YOUR_OWN_WORKDING_DIRECTORY\")\n",
    "if tf.test.gpu_device_name(): \n",
    "    print('Default GPU Device: {}'.format(tf.test.gpu_device_name()))\n",
    "else:\n",
    "    print(\"Please install GPU version of TF\")"
   ]
  },
  {
   "cell_type": "code",
   "execution_count": null,
   "id": "0f4a20f3-48f6-46da-862c-131f9d972626",
   "metadata": {},
   "outputs": [],
   "source": [
    "filename=\"/g/data/rr3/publications/CORDEX/output/AUS-44/UNSW/\"\n",
    "filename +=\"CSIRO-BOM-ACCESS1-0/rcp45/r1i1p1/UNSW-WRF360K/v1/day/tasmax/files/d20210629/\"\n",
    "file_dir = filename + \"*\"\n",
    "print(file_dir)\n",
    "data = xr.open_mfdataset(file_dir, parallel=False)    \n",
    "lat = data.lat\n",
    "lon = data.lon\n",
    "time = data.time\n",
    "tasmax = data.tasmax\n",
    "print (tasmax.shape ,  tasmax.dims)"
   ]
  },
  {
   "cell_type": "code",
   "execution_count": null,
   "id": "a30c5b14-9165-4426-9698-9ba08a69e49f",
   "metadata": {},
   "outputs": [],
   "source": [
    "print(lon)\n",
    "print(time)"
   ]
  },
  {
   "cell_type": "code",
   "execution_count": null,
   "id": "a1a4a89e-0154-47f5-8b9f-598c674c2fc0",
   "metadata": {},
   "outputs": [],
   "source": [
    "min_lon = 139.0\n",
    "max_lon = 195.0\n",
    "cropped_tasmax = tasmax.sel( rlon=slice(min_lon,max_lon))\n",
    "cropped_tasmax.shape"
   ]
  },
  {
   "cell_type": "code",
   "execution_count": null,
   "id": "13d0d970-c8c5-4bbe-b4f1-ff7fc6f21aae",
   "metadata": {},
   "outputs": [],
   "source": [
    "test_data  = cropped_tasmax.sel(time=slice('2089-07-02', '2100-12-31'))\n",
    "val_data   = cropped_tasmax.sel(time=slice('2078-01-01', '2089-07-01'))\n",
    "train_data = cropped_tasmax.sel(time=slice('2006-01-19', '2077-12-31'))\n",
    "\n",
    "print(test_data.shape, val_data.shape, train_data.shape)"
   ]
  },
  {
   "cell_type": "code",
   "execution_count": null,
   "id": "880668cd-e021-455a-8f46-c662efe573d3",
   "metadata": {},
   "outputs": [],
   "source": [
    "scaler_train = dds.StandardScaler(axis=None)\n",
    "scaler_train.fit(train_data)  \n",
    "y_train = scaler_train.transform(train_data)\n",
    "y_test = scaler_train.transform(test_data)\n",
    "y_val = scaler_train.transform(val_data)"
   ]
  },
  {
   "cell_type": "code",
   "execution_count": null,
   "id": "a0a15ba9-4066-40c8-8db9-9324ba43dd1d",
   "metadata": {},
   "outputs": [],
   "source": [
    "y_train = y_train.expand_dims(dim='channel', axis=-1)\n",
    "y_test = y_test.expand_dims(dim='channel', axis=-1)\n",
    "y_val = y_val.expand_dims(dim='channel', axis=-1)"
   ]
  },
  {
   "cell_type": "code",
   "execution_count": null,
   "id": "f55b85a1-a991-475b-8215-b040f8515021",
   "metadata": {},
   "outputs": [],
   "source": [
    "_ = dds.create_pair_hr_lr(\n",
    "     array=  y_test.values[0],  # ytmaxscr_train.values[0], \n",
    "     array_lr = None,\n",
    "     upsampling='spc',\n",
    "     scale=8, \n",
    "     patch_size=None, \n",
    "     static_vars=None, \n",
    "     predictors=None, \n",
    "     season=None,\n",
    "     debug=True, \n",
    "     interpolation='inter_area')"
   ]
  },
  {
   "cell_type": "code",
   "execution_count": null,
   "id": "aa7b2310-e98c-4cf1-973f-1b73e75bab52",
   "metadata": {},
   "outputs": [],
   "source": [
    "ARCH_PARAMS = dict(n_filters=8,\n",
    "                   n_blocks=8,\n",
    "                   normalization=None,\n",
    "                   dropout_rate=0.0,\n",
    "                   dropout_variant='spatial',\n",
    "                   attention=False,\n",
    "                   activation='relu',\n",
    "                   localcon_layer=True)\n",
    "\n",
    "tasmax_trainer = dds.SupervisedTrainer(\n",
    "    backbone='resnet',\n",
    "    upsampling='spc', \n",
    "    data_train=  y_train, \n",
    "    data_val=    y_val,\n",
    "    data_test=   y_test,\n",
    "    data_train_lr=None, \n",
    "    data_val_lr=None,  \n",
    "    data_test_lr=None, \n",
    "    scale=8,\n",
    "    time_window=None, \n",
    "    static_vars=None,\n",
    "    predictors_train= None,     \n",
    "    predictors_val= None,  \n",
    "    predictors_test= None,  \n",
    "    interpolation='inter_area',\n",
    "    patch_size=None , \n",
    "    batch_size=60, \n",
    "    loss='mae',\n",
    "    epochs=100, \n",
    "    steps_per_epoch=None, \n",
    "    validation_steps=None, \n",
    "    test_steps=None, \n",
    "    learning_rate=(1e-3, 1e-4), lr_decay_after=1e4,\n",
    "    early_stopping=False, patience=6, min_delta=0, \n",
    "    save=False, \n",
    "    save_path=None,\n",
    "    show_plot=True, verbose=True, \n",
    "    device= 'GPU', \n",
    "    **ARCH_PARAMS)\n",
    "\n",
    "tasmax_trainer.run()"
   ]
  },
  {
   "cell_type": "code",
   "execution_count": null,
   "id": "ecc55d7a-2581-42c6-9525-d169aa463156",
   "metadata": {
    "tags": []
   },
   "outputs": [],
   "source": [
    "tasmax_pred = dds.Predictor(\n",
    "    tasmax_trainer, \n",
    "    y_test, \n",
    "    scale=8, \n",
    "    array_in_hr=True,\n",
    "    static_vars=None, \n",
    "    predictors= None, #[ytmaxscr_train], \n",
    "    time_window=None,\n",
    "    interpolation='inter_area', \n",
    "    batch_size=8,\n",
    "    scaler=scaler_train,\n",
    "    save_path=None,\n",
    "    save_fname=None,\n",
    "    return_lr=True,\n",
    "    device='GPU')\n",
    "\n",
    "tasmax_unscaled_y_pred, tasmax_coarsened_array = tasmax_pred.run()\n"
   ]
  },
  {
   "cell_type": "code",
   "execution_count": null,
   "id": "5992a2dd-ba4d-4d7e-b747-a4614612cf1a",
   "metadata": {},
   "outputs": [],
   "source": [
    "tasmax_scaled_y_pred = scaler_train.transform(tasmax_unscaled_y_pred)"
   ]
  },
  {
   "cell_type": "code",
   "execution_count": null,
   "id": "d543dae9-eaf4-4163-946a-86bbf8b9c882",
   "metadata": {},
   "outputs": [],
   "source": [
    "ecv.plot(tasmax_coarsened_array,plot_size_px=400 )"
   ]
  },
  {
   "cell_type": "code",
   "execution_count": null,
   "id": "8b702052-653d-4192-a9b8-c0294a207aa5",
   "metadata": {
    "tags": []
   },
   "outputs": [],
   "source": [
    "ecv.plot(y_test.values,plot_size_px=400 ) +   ecv.plot(tasmax_scaled_y_pred,plot_size_px=400)  "
   ]
  },
  {
   "cell_type": "code",
   "execution_count": null,
   "id": "5903dde4-d893-4401-a0f5-8a0ffb9acf2c",
   "metadata": {},
   "outputs": [],
   "source": [
    "data.close()"
   ]
  },
  {
   "cell_type": "code",
   "execution_count": null,
   "id": "b433b5f6-5097-438c-97be-524210cec04c",
   "metadata": {},
   "outputs": [],
   "source": []
  }
 ],
 "metadata": {
  "kernelspec": {
   "display_name": "Python 3 (ipykernel)",
   "language": "python",
   "name": "python3"
  },
  "language_info": {
   "codemirror_mode": {
    "name": "ipython",
    "version": 3
   },
   "file_extension": ".py",
   "mimetype": "text/x-python",
   "name": "python",
   "nbconvert_exporter": "python",
   "pygments_lexer": "ipython3",
   "version": "3.9.16"
  }
 },
 "nbformat": 4,
 "nbformat_minor": 5
}
